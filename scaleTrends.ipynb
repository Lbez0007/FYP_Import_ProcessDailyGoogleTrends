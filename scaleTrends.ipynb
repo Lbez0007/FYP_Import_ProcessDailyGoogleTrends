{
 "cells": [
  {
   "cell_type": "markdown",
   "source": [
    "# Import Libraries"
   ],
   "metadata": {
    "collapsed": false
   }
  },
  {
   "cell_type": "code",
   "execution_count": 87,
   "outputs": [],
   "source": [
    "import glob\n",
    "\n",
    "import pandas as pd\n",
    "from pytrends.request import TrendReq\n",
    "from pytrends import dailydata\n",
    "from datetime import date\n"
   ],
   "metadata": {
    "collapsed": false,
    "pycharm": {
     "name": "#%%\n"
    }
   }
  },
  {
   "cell_type": "markdown",
   "source": [
    "# Import CSVs"
   ],
   "metadata": {
    "collapsed": false
   }
  },
  {
   "cell_type": "code",
   "execution_count": 88,
   "outputs": [],
   "source": [
    "df = pd.read_csv(\"GoogleTrends.csv\")"
   ],
   "metadata": {
    "collapsed": false,
    "pycharm": {
     "name": "#%%\n"
    }
   }
  },
  {
   "cell_type": "markdown",
   "source": [
    "# Using Trends"
   ],
   "metadata": {
    "collapsed": false
   }
  },
  {
   "cell_type": "code",
   "execution_count": 89,
   "outputs": [
    {
     "name": "stdout",
     "output_type": "stream",
     "text": [
      "pandemic\n",
      "covid\n",
      "covid-19\n",
      "coronavirus\n",
      "cases\n",
      "cdc\n",
      "fauci\n",
      "recession\n",
      "crisis\n",
      "deaths\n",
      "restrictions\n",
      "lockdown\n",
      "vaccine\n",
      "vaccines\n",
      "travel\n",
      "stimulus\n",
      "variant\n",
      "pfizer\n"
     ]
    }
   ],
   "source": [
    "# Timezone Offset(US CST = 360)\n",
    "pytrends = TrendReq(hl='en-US', tz=360)\n",
    "weekly_dates = pd.date_range(start='2017-01-01', end='2020-12-31', freq='W')\n",
    "\n",
    "# build the payload\n",
    "def calculate_trend(key):\n",
    "    pytrends.build_payload([key], cat=0, timeframe='2017-01-01 2020-12-31', geo='US')\n",
    "    weekly_trends = pytrends.interest_over_time()\n",
    "    return weekly_trends\n",
    "\n",
    "weekly_trend_df = pd.DataFrame(index=pd.date_range(date(2017,1,1), date(2020,12,31), freq='W'))\n",
    "adjusted_df = pd.DataFrame(index=pd.date_range(date(2017,1,1), date(2020,12,31), freq='D'))\n",
    "\n",
    "for column in df:\n",
    "    if not \"Unnamed\" in df[column].name:\n",
    "        print(df[column].name)\n",
    "        adjusted_df[df[column].name] = 0\n",
    "        weekly_trends = calculate_trend(df[column].name)\n",
    "        weekly_trend_df[df[column].name] = weekly_trends.iloc[:, 0]\n",
    "\n",
    "\n",
    "\n",
    "for index, row in df.iterrows():\n",
    "    row_date = row.iloc[0]\n",
    "    weekly_trends_row = (weekly_trend_df.loc[weekly_trend_df.index <= row_date]).iloc[-1]\n",
    "    weekly_trends_row_adj = weekly_trends_row.divide(100)\n",
    "    new_row = row.iloc[1:].mul(weekly_trends_row_adj)\n",
    "    adjusted_df.iloc[index] = new_row\n",
    "\n",
    "\n",
    "\n",
    "adjusted_df.to_csv(\"GoogleTrendsAdjusted.csv\", index=True)"
   ],
   "metadata": {
    "collapsed": false,
    "pycharm": {
     "name": "#%%\n"
    }
   }
  }
 ],
 "metadata": {
  "kernelspec": {
   "display_name": "Python 3",
   "language": "python",
   "name": "python3"
  },
  "language_info": {
   "codemirror_mode": {
    "name": "ipython",
    "version": 2
   },
   "file_extension": ".py",
   "mimetype": "text/x-python",
   "name": "python",
   "nbconvert_exporter": "python",
   "pygments_lexer": "ipython2",
   "version": "2.7.6"
  }
 },
 "nbformat": 4,
 "nbformat_minor": 0
}